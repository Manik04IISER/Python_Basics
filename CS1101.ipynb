{
 "cells": [
  {
   "attachments": {},
   "cell_type": "markdown",
   "metadata": {},
   "source": [
    "# Few Algorithms\n"
   ]
  },
  {
   "attachments": {},
   "cell_type": "markdown",
   "metadata": {},
   "source": [
    "# 1. Prime Finder"
   ]
  },
  {
   "attachments": {},
   "cell_type": "markdown",
   "metadata": {},
   "source": [
    "---"
   ]
  },
  {
   "cell_type": "code",
   "execution_count": 44,
   "metadata": {},
   "outputs": [
    {
     "name": "stdout",
     "output_type": "stream",
     "text": [
      "The primes are [1, 2, 3, 5, 7, 11, 13, 17, 19, 23, 29, 31, 37, 41, 43, 47, 53, 59, 61, 67, 71, 73, 79, 83, 89, 97]\n"
     ]
    }
   ],
   "source": [
    "#The extent of the search is user defined and all the primes found within it are displayed\n",
    "def prime_finder(q):\n",
    "    l=[]\n",
    "    for i in range(1,q+1):\n",
    "        c=0 # c needs to be redefined everytime for a new i\n",
    "        for j in range(2,i):\n",
    "            if i%j==0:\n",
    "                c+=1\n",
    "        if c==0:\n",
    "            l.append(i)\n",
    "    print(\"The primes are\",l)\n",
    "prime_finder(100)"
   ]
  },
  {
   "attachments": {},
   "cell_type": "markdown",
   "metadata": {},
   "source": [
    "---"
   ]
  },
  {
   "attachments": {},
   "cell_type": "markdown",
   "metadata": {},
   "source": [
    "## 2. Mean, Variance, Correlation Coefficient\n",
    "\n"
   ]
  },
  {
   "attachments": {},
   "cell_type": "markdown",
   "metadata": {},
   "source": [
    "- ### Mean:   $<x> = \\frac{1}{n}\\sum_{i=1}^{n}x_i$  \n"
   ]
  },
  {
   "attachments": {},
   "cell_type": "markdown",
   "metadata": {},
   "source": [
    "---"
   ]
  },
  {
   "cell_type": "code",
   "execution_count": 62,
   "metadata": {},
   "outputs": [
    {
     "name": "stdout",
     "output_type": "stream",
     "text": [
      "3.5 is the mean of the numbers [1, 2, 3, 4, 5, 6]\n"
     ]
    }
   ],
   "source": [
    "from cmath import *\n",
    "def mean(q):\n",
    "    print(sum(q)/len(q),'is the mean of the numbers',q)\n",
    "mean([1,2,3,4,5,6])"
   ]
  },
  {
   "attachments": {},
   "cell_type": "markdown",
   "metadata": {},
   "source": [
    "---"
   ]
  },
  {
   "attachments": {},
   "cell_type": "markdown",
   "metadata": {},
   "source": [
    "- ### Variance: $<x^2> - <x>^2 =\\frac{1}{n}\\sum_{i=1}^{n}(x_i)^2 - (\\frac{1}{n}\\sum_{i=1}^{n}x_i)^2$  \n",
    "\n"
   ]
  },
  {
   "cell_type": "code",
   "execution_count": 61,
   "metadata": {},
   "outputs": [
    {
     "name": "stdout",
     "output_type": "stream",
     "text": [
      "2.916666666666666 is the variance of the numbers [1, 2, 3, 4, 5, 6]\n"
     ]
    }
   ],
   "source": [
    "from cmath import *\n",
    "def variance(q):\n",
    "    v=[i**2 for i in q]\n",
    "    print(sum(v)/len(v)-(sum(q)/len(q))**2,'is the variance of the numbers',q)\n",
    "variance([1,2,3,4,5,6])"
   ]
  },
  {
   "attachments": {},
   "cell_type": "markdown",
   "metadata": {},
   "source": [
    "---"
   ]
  },
  {
   "attachments": {},
   "cell_type": "markdown",
   "metadata": {},
   "source": [
    "- ### Correlation Coefficient:  $r_{xy} =  \\frac{\\sum_{i=1}^{n}(x_i - <x>)(y_i - <y>)}{\\sqrt{\\sum_{i=1}^{n}(x_i - <x>)^2}\\sqrt{\\sum_{i=1}^{n}(y_i - <y>)^2}} $ \n"
   ]
  },
  {
   "cell_type": "code",
   "execution_count": 77,
   "metadata": {},
   "outputs": [
    {
     "name": "stdout",
     "output_type": "stream",
     "text": [
      "(0.9999999999999998+0j)\n"
     ]
    }
   ],
   "source": [
    "from cmath import *\n",
    "def correlation_coefficient(q,v):\n",
    "    i,c,d,e=0,0,0,0\n",
    "    q_mean,v_mean=sum(q)/len(q),sum(v)/len(v)\n",
    "    while i<len(q):\n",
    "        c+=(q[i]-q_mean)*(v[i]-v_mean)\n",
    "        d+=(q[i]-q_mean)**2\n",
    "        e+=(v[i]-v_mean)**2\n",
    "        i+=1\n",
    "    print(c/(sqrt(d)*sqrt(e)))\n",
    "correlation_coefficient([1,2,3,4,5],[6,7,8,9,10])"
   ]
  },
  {
   "attachments": {},
   "cell_type": "markdown",
   "metadata": {},
   "source": [
    "---"
   ]
  },
  {
   "attachments": {},
   "cell_type": "markdown",
   "metadata": {},
   "source": [
    "## 3. Perfect Square Finder"
   ]
  },
  {
   "attachments": {},
   "cell_type": "markdown",
   "metadata": {},
   "source": [
    "---"
   ]
  },
  {
   "cell_type": "code",
   "execution_count": 81,
   "metadata": {},
   "outputs": [
    {
     "name": "stdout",
     "output_type": "stream",
     "text": [
      "The perfect squares till 100 are [4, 9, 16, 25, 36, 49, 64, 81, 100]\n"
     ]
    }
   ],
   "source": [
    "#The extent of the search is user defined and all the perfect squares found within it are displayed\n",
    "from cmath import *\n",
    "def perfect_square_finder(q):\n",
    "    l=[]\n",
    "    for i in range(1,q+1):\n",
    "        for j in range(1,i):\n",
    "            if i/j==j:\n",
    "                l.append(i)\n",
    "            else:\n",
    "                pass\n",
    "    print(\"The perfect squares till\",q,\"are\",l)\n",
    "perfect_square_finder(100)\n"
   ]
  },
  {
   "attachments": {},
   "cell_type": "markdown",
   "metadata": {},
   "source": [
    "---"
   ]
  },
  {
   "attachments": {},
   "cell_type": "markdown",
   "metadata": {},
   "source": [
    "## 4. Armstrong Numbers"
   ]
  },
  {
   "attachments": {},
   "cell_type": "markdown",
   "metadata": {},
   "source": [
    "---"
   ]
  },
  {
   "attachments": {},
   "cell_type": "markdown",
   "metadata": {},
   "source": [
    "An Armstrong number is a number for which the sum of cubes of the digits \n",
    "of the number is the number itself."
   ]
  },
  {
   "cell_type": "code",
   "execution_count": 141,
   "metadata": {},
   "outputs": [
    {
     "name": "stdout",
     "output_type": "stream",
     "text": [
      "The Armstrong Numbers till 1000 are [407, 371, 370, 153, 1]\n"
     ]
    }
   ],
   "source": [
    "#The extent of the search is user defined and all the perfect squares found within it are displayed\n",
    "from cmath import *\n",
    "def armstrong_numbers(q):\n",
    "    h=[]\n",
    "    for j in range(1,q):\n",
    "        g,z=0,str(q-j) # g needs to be redefined everytime for a new j\n",
    "        d=[int(z[i]) for i in range(0,len(z))]\n",
    "        for k in d:\n",
    "            g+=k**3\n",
    "        if g==q-j:\n",
    "            h.append(q-j)\n",
    "    print(\"The Armstrong Numbers till\",q,\"are\",h)\n",
    "armstrong_numbers(1000)  "
   ]
  },
  {
   "attachments": {},
   "cell_type": "markdown",
   "metadata": {},
   "source": [
    "---"
   ]
  },
  {
   "attachments": {},
   "cell_type": "markdown",
   "metadata": {},
   "source": [
    "## 5. Palindrome Characters\n"
   ]
  },
  {
   "attachments": {},
   "cell_type": "markdown",
   "metadata": {},
   "source": [
    "---"
   ]
  },
  {
   "cell_type": "code",
   "execution_count": 130,
   "metadata": {},
   "outputs": [
    {
     "name": "stdout",
     "output_type": "stream",
     "text": [
      "[999, 989, 979, 969, 959, 949, 939, 929, 919, 909, 898, 888, 878, 868, 858, 848, 838, 828, 818, 808, 797, 787, 777, 767, 757, 747, 737, 727, 717, 707, 696, 686, 676, 666, 656, 646, 636, 626, 616, 606, 595, 585, 575, 565, 555, 545, 535, 525, 515, 505, 494, 484, 474, 464, 454, 444, 434, 424, 414, 404, 393, 383, 373, 363, 353, 343, 333, 323, 313, 303, 292, 282, 272, 262, 252, 242, 232, 222, 212, 202, 191, 181, 171, 161, 151, 141, 131, 121, 111, 101, 99, 88, 77, 66, 55, 44, 33, 22, 11]\n"
     ]
    }
   ],
   "source": [
    "#The extent of the search is user defined and all the perfect squares found within it are displayed\n",
    "from cmath import *\n",
    "def palindrome_characters(q):\n",
    "    h=[]\n",
    "    for j in range(1,q-10):\n",
    "        z,c=str(q-j),0\n",
    "        d=[int(z[i]) for i in range(0,len(z))]\n",
    "        for i in range(0,len(d)):\n",
    "            if d[i]==d[-1-i]:\n",
    "                c+=1\n",
    "        if c==len(d):\n",
    "            h.append(q-j)\n",
    "    print(h)\n",
    "palindrome_characters(1000)"
   ]
  },
  {
   "attachments": {},
   "cell_type": "markdown",
   "metadata": {},
   "source": [
    "---"
   ]
  },
  {
   "attachments": {},
   "cell_type": "markdown",
   "metadata": {},
   "source": [
    "## 6. Collatz Conjecture and Collatz Sequence"
   ]
  },
  {
   "attachments": {},
   "cell_type": "markdown",
   "metadata": {},
   "source": [
    "---"
   ]
  },
  {
   "attachments": {},
   "cell_type": "markdown",
   "metadata": {},
   "source": [
    "For any positive integer n, generate the next term \n",
    "according to the following algorithm:  \n",
    "\n",
    "$\\frac{n}{2}$, if $n$ is even  \n",
    "$3n+1$, if $n$ is odd \n",
    "\n",
    "Repeat to generate a sequence called the Collatz \n",
    "Sequence.  \n",
    "\n",
    "The Collatz conjecture is that the sequence of \n",
    "numbers will end in $1$ regardless of the initial \n",
    "choice of the positive integer."
   ]
  },
  {
   "cell_type": "code",
   "execution_count": 154,
   "metadata": {},
   "outputs": [
    {
     "name": "stdout",
     "output_type": "stream",
     "text": [
      "The Collatz Sequence is [3.0, 10.0, 5.0, 16.0, 8.0, 4.0, 2.0, 1.0]\n"
     ]
    }
   ],
   "source": [
    "#The extent of the search is user defined and all the perfect squares found within it are displayed\n",
    "from cmath import *\n",
    "l=[]\n",
    "def collatz_sequence(q):\n",
    "    while q>1:\n",
    "        if q%2==0:\n",
    "            l.append(q/2)\n",
    "            q=q/2\n",
    "        elif q%2!=0:\n",
    "            l.append(3*q+1)\n",
    "            q=3*q+1\n",
    "    print(\"The Collatz Sequence is\",l)\n",
    "collatz_sequence(6)"
   ]
  },
  {
   "attachments": {},
   "cell_type": "markdown",
   "metadata": {},
   "source": [
    "---"
   ]
  },
  {
   "attachments": {},
   "cell_type": "markdown",
   "metadata": {},
   "source": [
    "## 7. Bubble Sort"
   ]
  },
  {
   "attachments": {},
   "cell_type": "markdown",
   "metadata": {},
   "source": [
    "---"
   ]
  },
  {
   "attachments": {},
   "cell_type": "markdown",
   "metadata": {},
   "source": [
    "To sort a list of numbers in ascending order"
   ]
  },
  {
   "cell_type": "code",
   "execution_count": 140,
   "metadata": {},
   "outputs": [
    {
     "name": "stdout",
     "output_type": "stream",
     "text": [
      "The list in ascending order [1, 2, 2, 3, 4, 5, 7]\n"
     ]
    }
   ],
   "source": [
    "def bubble_sort(q):\n",
    "    for i in range (len(q)):\n",
    "        for j in range(0,len(q)-i-1):\n",
    "            if q[j+1]<q[j]:\n",
    "                q[j+1],q[j]=q[j],q[j+1]\n",
    "    print(\"The list in ascending order\",q)\n",
    "bubble_sort([1,3,4,2,2,7,5])"
   ]
  },
  {
   "attachments": {},
   "cell_type": "markdown",
   "metadata": {},
   "source": [
    "---"
   ]
  },
  {
   "cell_type": "code",
   "execution_count": 83,
   "metadata": {},
   "outputs": [
    {
     "name": "stdout",
     "output_type": "stream",
     "text": [
      "True\n",
      "False\n"
     ]
    }
   ],
   "source": [
    "a=(1,2>3,3,4,5)\n",
    "print(any(a))\n",
    "print(all(a))"
   ]
  }
 ],
 "metadata": {
  "language_info": {
   "name": "python"
  },
  "orig_nbformat": 4
 },
 "nbformat": 4,
 "nbformat_minor": 2
}
